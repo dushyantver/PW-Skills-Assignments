{
 "cells": [
  {
   "cell_type": "markdown",
   "id": "59a8724c",
   "metadata": {},
   "source": [
    "# Assignment: Tuples, Set and Dictionery\n",
    "\n",
    "\n"
   ]
  },
  {
   "cell_type": "markdown",
   "id": "11e39c1c",
   "metadata": {},
   "source": [
    "### 1. Characteristics of Tuples:\n",
    "\n",
    "1. Tuples are indexed and allow random access of element inside it like list.\n",
    "2. Tuples are iterable.\n",
    "3. Once a tuple is created we can not do any changes on it so it is immutable. \n"
   ]
  },
  {
   "cell_type": "markdown",
   "id": "b7bef703",
   "metadata": {},
   "source": [
    "### 2. Two tuple methods are: \n",
    "    \n",
    "    1. count()\n",
    "    2. index()\n",
    "    \n",
    "    Since tuple is immutable so it limts the funcationalities like list i.e. only two methods are there"
   ]
  },
  {
   "cell_type": "code",
   "execution_count": 2,
   "id": "ef3adc1d",
   "metadata": {},
   "outputs": [],
   "source": [
    "t = (1,2,4,\"am\")"
   ]
  },
  {
   "cell_type": "code",
   "execution_count": 3,
   "id": "1e140c7e",
   "metadata": {},
   "outputs": [
    {
     "data": {
      "text/plain": [
       "1"
      ]
     },
     "execution_count": 3,
     "metadata": {},
     "output_type": "execute_result"
    }
   ],
   "source": [
    "# method1: count()\n",
    "t.count(4)"
   ]
  },
  {
   "cell_type": "code",
   "execution_count": 4,
   "id": "f88b3e87",
   "metadata": {},
   "outputs": [
    {
     "data": {
      "text/plain": [
       "3"
      ]
     },
     "execution_count": 4,
     "metadata": {},
     "output_type": "execute_result"
    }
   ],
   "source": [
    "# mrthod2: index()\n",
    "t.index(\"am\")"
   ]
  },
  {
   "cell_type": "markdown",
   "id": "ee67e45b",
   "metadata": {},
   "source": [
    "### 3. Sets data structure do not allow duplicate values"
   ]
  },
  {
   "cell_type": "code",
   "execution_count": 5,
   "id": "7319c6af",
   "metadata": {},
   "outputs": [],
   "source": [
    "List = [1, 1, 1, 2, 1, 3, 1, 4, 2, 1, 2, 2, 2, 3, 2, 4, 3, 1, 3, 2, 3, 3, 3, 4, 4, 1, 4, 2, 4, 3, 4, 4]"
   ]
  },
  {
   "cell_type": "code",
   "execution_count": 7,
   "id": "331d39fb",
   "metadata": {},
   "outputs": [
    {
     "data": {
      "text/plain": [
       "{1, 2, 3, 4}"
      ]
     },
     "execution_count": 7,
     "metadata": {},
     "output_type": "execute_result"
    }
   ],
   "source": [
    "# unique value of list is\n",
    "unique= set(List)\n",
    "unique"
   ]
  },
  {
   "cell_type": "markdown",
   "id": "6ecd3909",
   "metadata": {},
   "source": [
    "### 4. In set \n",
    "union() method allow to combine two sets and give unique value\n",
    "update() method allow to update a given set according to other"
   ]
  },
  {
   "cell_type": "code",
   "execution_count": 8,
   "id": "dc655fd2",
   "metadata": {},
   "outputs": [],
   "source": [
    "s1={1,2,3,4}\n",
    "s2={3,4,5,6}"
   ]
  },
  {
   "cell_type": "code",
   "execution_count": 9,
   "id": "3ffb717a",
   "metadata": {},
   "outputs": [
    {
     "data": {
      "text/plain": [
       "{1, 2, 3, 4, 5, 6}"
      ]
     },
     "execution_count": 9,
     "metadata": {},
     "output_type": "execute_result"
    }
   ],
   "source": [
    "# method 1: union\n",
    "s1.union(s2)"
   ]
  },
  {
   "cell_type": "code",
   "execution_count": 10,
   "id": "5d0db6d5",
   "metadata": {},
   "outputs": [],
   "source": [
    "# method 2: update()\n",
    "s1.update(s2)"
   ]
  },
  {
   "cell_type": "code",
   "execution_count": 11,
   "id": "dcaf437c",
   "metadata": {},
   "outputs": [
    {
     "data": {
      "text/plain": [
       "{1, 2, 3, 4, 5, 6}"
      ]
     },
     "execution_count": 11,
     "metadata": {},
     "output_type": "execute_result"
    }
   ],
   "source": [
    "s1"
   ]
  },
  {
   "cell_type": "markdown",
   "id": "c951f67c",
   "metadata": {},
   "source": [
    "### 5. Dictionery\n",
    "\n",
    "Dictionary is a data-structure which allowed to hold the data in the form of key- value pair\n",
    "e.g. {\"Player\":\"Kohli\",\"Run\":\"100\"}\n",
    "\n",
    "Dictioney is unordered"
   ]
  },
  {
   "cell_type": "markdown",
   "id": "db03d120",
   "metadata": {},
   "source": [
    "### 6. Nested Dictionery\n",
    "\n",
    "we can create a nested dictionery"
   ]
  },
  {
   "cell_type": "code",
   "execution_count": 13,
   "id": "05a39ae8",
   "metadata": {},
   "outputs": [],
   "source": [
    "dic1 = {1:{\"Fruit\":\"Mango\",\"Variety\":\"Alphonso\",\"Price\":300}}"
   ]
  },
  {
   "cell_type": "code",
   "execution_count": 15,
   "id": "d8afa4c1",
   "metadata": {},
   "outputs": [
    {
     "data": {
      "text/plain": [
       "'Mango'"
      ]
     },
     "execution_count": 15,
     "metadata": {},
     "output_type": "execute_result"
    }
   ],
   "source": [
    "dic1[1][\"Fruit\"]"
   ]
  },
  {
   "cell_type": "code",
   "execution_count": null,
   "id": "05b6a0d3",
   "metadata": {},
   "outputs": [],
   "source": []
  }
 ],
 "metadata": {
  "kernelspec": {
   "display_name": "Python 3 (ipykernel)",
   "language": "python",
   "name": "python3"
  },
  "language_info": {
   "codemirror_mode": {
    "name": "ipython",
    "version": 3
   },
   "file_extension": ".py",
   "mimetype": "text/x-python",
   "name": "python",
   "nbconvert_exporter": "python",
   "pygments_lexer": "ipython3",
   "version": "3.9.7"
  }
 },
 "nbformat": 4,
 "nbformat_minor": 5
}
