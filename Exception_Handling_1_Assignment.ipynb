{
 "cells": [
  {
   "cell_type": "markdown",
   "id": "b88e8208",
   "metadata": {},
   "source": [
    "# Exception Handling 1 Assignment"
   ]
  },
  {
   "cell_type": "raw",
   "id": "5ae1a7d4",
   "metadata": {},
   "source": [
    "1. In Python whenever we prepare a script if we have to make exception for any cases we use Exception concept. In Exceptions script will show the error message and further continue from next line on the other hand after Syntax error code will completely stopped."
   ]
  },
  {
   "cell_type": "raw",
   "id": "d8150ec4",
   "metadata": {},
   "source": [
    "2. If exception is not handled script will stop at that line"
   ]
  },
  {
   "cell_type": "code",
   "execution_count": 2,
   "id": "b8b8a17e",
   "metadata": {},
   "outputs": [],
   "source": [
    "l=[i for i in range(0,10)]"
   ]
  },
  {
   "cell_type": "code",
   "execution_count": 3,
   "id": "c7ce0864",
   "metadata": {},
   "outputs": [
    {
     "data": {
      "text/plain": [
       "[0, 1, 2, 3, 4, 5, 6, 7, 8, 9]"
      ]
     },
     "execution_count": 3,
     "metadata": {},
     "output_type": "execute_result"
    }
   ],
   "source": [
    "l"
   ]
  },
  {
   "cell_type": "code",
   "execution_count": 4,
   "id": "5d8bcee5",
   "metadata": {},
   "outputs": [
    {
     "ename": "ZeroDivisionError",
     "evalue": "division by zero",
     "output_type": "error",
     "traceback": [
      "\u001b[1;31m---------------------------------------------------------------------------\u001b[0m",
      "\u001b[1;31mZeroDivisionError\u001b[0m                         Traceback (most recent call last)",
      "\u001b[1;32m~\\AppData\\Local\\Temp/ipykernel_2856/1830297790.py\u001b[0m in \u001b[0;36m<module>\u001b[1;34m\u001b[0m\n\u001b[0;32m      1\u001b[0m \u001b[1;32mfor\u001b[0m \u001b[0mi\u001b[0m \u001b[1;32min\u001b[0m \u001b[0mrange\u001b[0m\u001b[1;33m(\u001b[0m\u001b[1;36m0\u001b[0m\u001b[1;33m,\u001b[0m\u001b[0mlen\u001b[0m\u001b[1;33m(\u001b[0m\u001b[0ml\u001b[0m\u001b[1;33m)\u001b[0m\u001b[1;33m)\u001b[0m\u001b[1;33m:\u001b[0m\u001b[1;33m\u001b[0m\u001b[1;33m\u001b[0m\u001b[0m\n\u001b[1;32m----> 2\u001b[1;33m     \u001b[0mans\u001b[0m \u001b[1;33m=\u001b[0m \u001b[1;36m50\u001b[0m\u001b[1;33m/\u001b[0m\u001b[0ml\u001b[0m\u001b[1;33m[\u001b[0m\u001b[0mi\u001b[0m\u001b[1;33m]\u001b[0m\u001b[1;33m\u001b[0m\u001b[1;33m\u001b[0m\u001b[0m\n\u001b[0m\u001b[0;32m      3\u001b[0m     \u001b[0mprint\u001b[0m\u001b[1;33m(\u001b[0m\u001b[0mans\u001b[0m\u001b[1;33m)\u001b[0m\u001b[1;33m\u001b[0m\u001b[1;33m\u001b[0m\u001b[0m\n",
      "\u001b[1;31mZeroDivisionError\u001b[0m: division by zero"
     ]
    }
   ],
   "source": [
    "for i in range(0,len(l)):\n",
    "    ans = 50/l[i]\n",
    "    print(ans)"
   ]
  },
  {
   "cell_type": "code",
   "execution_count": 5,
   "id": "ac5bd64b",
   "metadata": {},
   "outputs": [
    {
     "name": "stdout",
     "output_type": "stream",
     "text": [
      "division by zero\n",
      "50.0\n",
      "25.0\n",
      "16.666666666666668\n",
      "12.5\n",
      "10.0\n",
      "8.333333333333334\n",
      "7.142857142857143\n",
      "6.25\n",
      "5.555555555555555\n"
     ]
    }
   ],
   "source": [
    "for i in range(0,len(l)):\n",
    "    try:\n",
    "        ans = 50/l[i]\n",
    "        print(ans)\n",
    "    except ZeroDivisionError as e:\n",
    "        print(e)"
   ]
  },
  {
   "cell_type": "raw",
   "id": "2cacf576",
   "metadata": {},
   "source": [
    "3. The try and except block in python is used to catch and handle exceptions"
   ]
  },
  {
   "cell_type": "code",
   "execution_count": 6,
   "id": "f89e3ef0",
   "metadata": {},
   "outputs": [
    {
     "name": "stdout",
     "output_type": "stream",
     "text": [
      "division by zero\n",
      "50.0\n",
      "25.0\n",
      "16.666666666666668\n",
      "12.5\n",
      "10.0\n",
      "8.333333333333334\n",
      "7.142857142857143\n",
      "6.25\n",
      "5.555555555555555\n"
     ]
    }
   ],
   "source": [
    "for i in range(0,len(l)):\n",
    "    try:\n",
    "        ans = 50/l[i]\n",
    "        print(ans)\n",
    "    except ZeroDivisionError as e:\n",
    "        print(e)"
   ]
  },
  {
   "cell_type": "raw",
   "id": "948dd75d",
   "metadata": {},
   "source": [
    "4. "
   ]
  },
  {
   "cell_type": "code",
   "execution_count": 7,
   "id": "1e1efa8f",
   "metadata": {},
   "outputs": [],
   "source": [
    "class validcheck(Exception):\n",
    "    def __init__(self,msg):\n",
    "        self.msg=msg"
   ]
  },
  {
   "cell_type": "code",
   "execution_count": 8,
   "id": "25eb522b",
   "metadata": {},
   "outputs": [],
   "source": [
    "def validity_check(balance):\n",
    "    if balance<0:\n",
    "        raise validcheck(\"Negative deposit is not possible\")\n",
    "    else:\n",
    "        print(\"It got deposited\")"
   ]
  },
  {
   "cell_type": "code",
   "execution_count": 9,
   "id": "97632262",
   "metadata": {},
   "outputs": [
    {
     "name": "stdout",
     "output_type": "stream",
     "text": [
      "Enter the balance : 56\n",
      "It got deposited\n"
     ]
    }
   ],
   "source": [
    "flag = True\n",
    "while flag==True:\n",
    "    try:\n",
    "        balance = int(input(\"Enter the balance : \"))\n",
    "        validity_check(balance)\n",
    "        flag=False\n",
    "    except validcheck as e:\n",
    "        print(e)"
   ]
  },
  {
   "cell_type": "raw",
   "id": "b16f0ccf",
   "metadata": {},
   "source": [
    "5. Sometime some input we give is correct according to system but practically it might not be correct. so in that case we need to give custom exception.\n",
    "    example are shown above."
   ]
  },
  {
   "cell_type": "raw",
   "id": "70906478",
   "metadata": {},
   "source": [
    "6. Example of custom exception class is shown in above example of 3 rd question"
   ]
  }
 ],
 "metadata": {
  "kernelspec": {
   "display_name": "Python 3 (ipykernel)",
   "language": "python",
   "name": "python3"
  },
  "language_info": {
   "codemirror_mode": {
    "name": "ipython",
    "version": 3
   },
   "file_extension": ".py",
   "mimetype": "text/x-python",
   "name": "python",
   "nbconvert_exporter": "python",
   "pygments_lexer": "ipython3",
   "version": "3.9.7"
  }
 },
 "nbformat": 4,
 "nbformat_minor": 5
}
